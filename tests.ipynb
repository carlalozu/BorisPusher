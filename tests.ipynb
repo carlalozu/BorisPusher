{
 "cells": [
  {
   "cell_type": "code",
   "execution_count": 1,
   "metadata": {},
   "outputs": [
    {
     "name": "stderr",
     "output_type": "stream",
     "text": [
      "\u001b[32m\u001b[1m  Activating\u001b[22m\u001b[39m project at `~/Documents/Courses/Fall2024/Seminar/BorisPusher/Boris`\n"
     ]
    }
   ],
   "source": [
    "import Pkg\n",
    "Pkg.activate(\"Boris\")"
   ]
  },
  {
   "cell_type": "code",
   "execution_count": 2,
   "metadata": {},
   "outputs": [],
   "source": [
    "using Plots"
   ]
  },
  {
   "cell_type": "code",
   "execution_count": 20,
   "metadata": {},
   "outputs": [
    {
     "data": {
      "text/plain": [
       "boris_twoPA (generic function with 1 method)"
      ]
     },
     "metadata": {},
     "output_type": "display_data"
    }
   ],
   "source": [
    "include(\"integrators.jl\")"
   ]
  },
  {
   "cell_type": "code",
   "execution_count": 4,
   "metadata": {},
   "outputs": [],
   "source": [
    "# let's start with one particle of unit mass and charge\n",
    "x_0 = [1/3, 1/4, 1/2];\n",
    "\n",
    "# and initial velocity\n",
    "v_0 = [2/5, 2/3, 1];"
   ]
  },
  {
   "cell_type": "code",
   "execution_count": 5,
   "metadata": {},
   "outputs": [
    {
     "name": "stdout",
     "output_type": "stream",
     "text": [
      "epsilon = 0.015625\n",
      "h = 0.015625\n",
      "nt = 65\n"
     ]
    }
   ],
   "source": [
    "# numerical parameters\n",
    "t0 = 0;\n",
    "tf = 1;\n",
    "\n",
    "# The errors in x and vk, v⊥ against different epsilon = 1/2^j are displayed in\n",
    "# Fig. 8.1, where j = 4, . . . , 13.\n",
    "j = 5;\n",
    "epsilon = (1/2)^j/2;\n",
    "\n",
    "# h = epsilon, 4*epsilon, 16*epsilon\n",
    "h = epsilon;\n",
    "nt = Int((tf - t0) / h + 1)\n",
    "\n",
    "println(\"epsilon = \", epsilon)\n",
    "println(\"h = \", h)\n",
    "println(\"nt = \", nt)"
   ]
  },
  {
   "cell_type": "code",
   "execution_count": 11,
   "metadata": {},
   "outputs": [],
   "source": [
    "x_tBEA, v_tBEA = boris_expA(x_0, v_0, (t0, tf), nt, epsilon);"
   ]
  },
  {
   "cell_type": "code",
   "execution_count": 16,
   "metadata": {},
   "outputs": [],
   "source": [
    "x_tBIA, v_tBIA = boris_impA(x_0, v_0, (t0, tf), nt, epsilon);"
   ]
  },
  {
   "cell_type": "code",
   "execution_count": 21,
   "metadata": {},
   "outputs": [
    {
     "data": {
      "text/plain": [
       "([0.3333333333333333 0.3316882103227664 … 0.3266809843224786 0.324007565512176; 0.25 0.23693812593788194 … 0.2527775720915222 0.23981888430784704; 0.5 0.5155700116830771 … 1.424216315452496 1.4379412603563126], [0.028062500000000046 -0.10528787267628031 … -0.02861898799761494 -0.171098803859364; 0.8438333333333333 -0.8359599399755551 … 0.8528106470152456 -0.8293560181552102; 0.9982638888888888 0.9964807477169395 … 0.8797743003608436 0.8783964738442578])"
      ]
     },
     "metadata": {},
     "output_type": "display_data"
    }
   ],
   "source": [
    "x_tT, v_tT = boris_twoPA(x_0, v_0, (t0, tf), nt, epsilon)"
   ]
  },
  {
   "cell_type": "code",
   "execution_count": null,
   "metadata": {},
   "outputs": [],
   "source": [
    "x_tSB, v_tSB = boris(x_0, v_0, (t0, tf), nt, epsilon);\n",
    "x_tBEA, v_tBEA = boris_expA(x_0, v_0, (t0, tf), nt, epsilon);\n",
    "x_tBIA, v_tBIA = boris_impA(x_0, v_0, (t0, tf), nt, epsilon);\n",
    "x_tBT, v_tBT = boris_twoPA(x_0, v_0, (t0, tf), nt, epsilon);\n",
    "x_tRK, v_tRK = runge_kutta(x_0, v_0, (t0, tf), nt, epsilon);"
   ]
  },
  {
   "cell_type": "code",
   "execution_count": null,
   "metadata": {},
   "outputs": [],
   "source": [
    "println(x_tSB[1, 3])\n",
    "println(x_tBEA[1, 3])\n",
    "println(x_tBIA[1, 3])\n",
    "println(x_tRK[1, 3])"
   ]
  },
  {
   "cell_type": "code",
   "execution_count": null,
   "metadata": {},
   "outputs": [],
   "source": [
    "plot(x_tBIA[1, :], x_tBIA[2, :], x_tBIA[3, :], label=\"Boris ImpA\")\n",
    "plot!(x_tRK[1, :], x_tRK[2, :], x_tRK[3, :], label=\"RK\")\n",
    "plot!(x_tBEA[1, :], x_tBEA[2, :], x_tBEA[3, :], label=\"Boris ExpA\")\n",
    "# plot!(x_tSB[1, :], x_tSB[2, :], x_tSB[3, :], label=\"Standard Boris\")"
   ]
  },
  {
   "cell_type": "code",
   "execution_count": null,
   "metadata": {},
   "outputs": [],
   "source": [
    "sqrt.(sum((x_tBIA .- x_tRK).^2, dims=1))[:]"
   ]
  },
  {
   "cell_type": "code",
   "execution_count": null,
   "metadata": {},
   "outputs": [],
   "source": [
    "sqrt.(sum((x_tBEA .- x_tRK).^2, dims=1))[:]"
   ]
  },
  {
   "cell_type": "code",
   "execution_count": null,
   "metadata": {},
   "outputs": [],
   "source": [
    "sqrt.(sum((x_tBIA .- x_tBEA).^2, dims=1))[:]"
   ]
  },
  {
   "cell_type": "code",
   "execution_count": null,
   "metadata": {},
   "outputs": [],
   "source": [
    "# make log\n",
    "plot(sqrt.(sum((x_tBIA .- x_tBEA).^2, dims=1))[:])\n",
    "# # make log\n",
    "# plot!(abs.(x_tBIA[2, :]-x_tBEA[2, :]))\n",
    "# # make log\n",
    "# plot!(abs.(x_tBIA[3, :]-x_tBEA[3, :]))"
   ]
  },
  {
   "cell_type": "code",
   "execution_count": null,
   "metadata": {},
   "outputs": [],
   "source": [
    "# The errors in x and vk, v⊥ against different epsilon = 1/2^j are displayed in\n",
    "# Fig. 8.1, where \n",
    "\n",
    "# array to store the errors\n",
    "error_SB = [];\n",
    "error_BEA = [];\n",
    "error_BIA = [];\n",
    "epsilons = [];\n",
    "for j in 4:13\n",
    "    epsilon = (1/2)^j;\n",
    "    push!(epsilons, epsilon)\n",
    "\n",
    "    # h = epsilon, 4*epsilon, 16*epsilon\n",
    "    h = epsilon;\n",
    "    nt = Int((tf - t0) / h + 1)\n",
    "    println(\"nt = \", nt)\n",
    "\n",
    "    x_tSB, v_tSB = boris(x_0, v_0, (t0, tf), nt, epsilon);\n",
    "    x_tRK, v_tRK = runge_kutta(x_0, v_0, (t0, tf), nt, epsilon);\n",
    "    x_tBEA, v_tBEA = boris_expA(x_0, v_0, (t0, tf), nt, epsilon);\n",
    "    x_tBIA, v_tBIA = boris_impA(x_0, v_0, (t0, tf), nt, epsilon);\n",
    "\n",
    "    # mean square error\n",
    "    push!(error_SB, sum(sqrt.(sum((x_tRK .- x_tSB).^2, dims=1)))/nt)\n",
    "    push!(error_BEA, sum(sqrt.(sum((x_tRK .- x_tBEA).^2, dims=1)))/nt)\n",
    "    push!(error_BIA, sum(sqrt.(sum((x_tRK .- x_tBIA).^2, dims=1)))/nt)\n",
    "\n",
    "end\n",
    "println(\"j = \", j)\n"
   ]
  },
  {
   "cell_type": "markdown",
   "metadata": {},
   "source": [
    "For the numerical results to provide a good approximation to the trajectory we require that the difference. where is some defined error tolerance, at each solution point. This difference is called the global error and is the accumulated error over all solution steps"
   ]
  },
  {
   "cell_type": "code",
   "execution_count": null,
   "metadata": {},
   "outputs": [],
   "source": [
    "# log-log plot\n",
    "plot(epsilons, error_SB, label=\"Boris\", xscale=:log10, yscale=:log10, marker=:circle)\n",
    "plot!(epsilons, error_BEA, label=\"Boris expA\", xscale=:log10, yscale=:log10, marker=:circle)\n",
    "plot!(epsilons, error_BIA, label=\"Boris impA\", xscale=:log10, yscale=:log10, marker=:circle)\n",
    "\n",
    "plot!(xlabel=s\"$log_{10}(\\epsilon)$\", ylabel=s\"$log_{10}($GE$)$\")\n",
    "plot!(title=s\"The global errors of $x$ with $h=\\epsilon$\")"
   ]
  },
  {
   "cell_type": "code",
   "execution_count": 14,
   "metadata": {},
   "outputs": [],
   "source": []
  }
 ],
 "metadata": {
  "kernelspec": {
   "display_name": "Julia 1.9.3",
   "language": "julia",
   "name": "julia-1.9"
  },
  "language_info": {
   "file_extension": ".jl",
   "mimetype": "application/julia",
   "name": "julia",
   "version": "1.9.3"
  }
 },
 "nbformat": 4,
 "nbformat_minor": 2
}
